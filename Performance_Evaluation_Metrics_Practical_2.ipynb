{
  "nbformat": 4,
  "nbformat_minor": 0,
  "metadata": {
    "colab": {
      "provenance": [],
      "authorship_tag": "ABX9TyNZExkZFW1lsHCqlP7SJSl4",
      "include_colab_link": true
    },
    "kernelspec": {
      "name": "python3",
      "display_name": "Python 3"
    },
    "language_info": {
      "name": "python"
    }
  },
  "cells": [
    {
      "cell_type": "markdown",
      "metadata": {
        "id": "view-in-github",
        "colab_type": "text"
      },
      "source": [
        "<a href=\"https://colab.research.google.com/github/kary99/MachineLearningPracticals/blob/main/Performance_Evaluation_Metrics_Practical_2.ipynb\" target=\"_parent\"><img src=\"https://colab.research.google.com/assets/colab-badge.svg\" alt=\"Open In Colab\"/></a>"
      ]
    },
    {
      "cell_type": "markdown",
      "source": [
        "**Performance Metrics for Classification**"
      ],
      "metadata": {
        "id": "Dsv4Aqba9JXd"
      }
    },
    {
      "cell_type": "code",
      "source": [
        "from sklearn.metrics import confusion_matrix\n",
        "from sklearn.metrics import accuracy_score\n",
        "from sklearn.metrics import classification_report\n",
        "from sklearn.metrics import roc_auc_score\n",
        "from sklearn.metrics import log_loss"
      ],
      "metadata": {
        "id": "CxkJIePsXhhb"
      },
      "execution_count": null,
      "outputs": []
    },
    {
      "cell_type": "code",
      "source": [
        "X_actual = [1, 1, 0, 1, 0, 0, 1, 0, 0, 0, 1, 0, 0, 1, 0, 0, 1, 0, 0, 1]\n",
        "Y_predic = [1, 0, 1, 1, 1, 0, 1, 1, 0, 0, 1, 0, 0, 1, 0, 0, 0, 1, 0, 0]"
      ],
      "metadata": {
        "id": "3Kqio-ONXvIb"
      },
      "execution_count": null,
      "outputs": []
    },
    {
      "cell_type": "code",
      "source": [
        "results = confusion_matrix(X_actual, Y_predic)\n",
        "print ('Confusion Matrix :')\n",
        "print(results)"
      ],
      "metadata": {
        "colab": {
          "base_uri": "https://localhost:8080/"
        },
        "id": "5fE6UQckYByB",
        "outputId": "93d1a4e8-74ec-42c6-d7d8-9221c9b8d9ba"
      },
      "execution_count": null,
      "outputs": [
        {
          "output_type": "stream",
          "name": "stdout",
          "text": [
            "Confusion Matrix :\n",
            "[[8 4]\n",
            " [3 5]]\n"
          ]
        }
      ]
    },
    {
      "cell_type": "code",
      "source": [
        "print ('Accuracy Score is',accuracy_score(X_actual, Y_predic))"
      ],
      "metadata": {
        "colab": {
          "base_uri": "https://localhost:8080/"
        },
        "id": "4cGwNMh1YPGw",
        "outputId": "eac4e8f0-cfae-446d-a43f-a3ba0bf089e8"
      },
      "execution_count": null,
      "outputs": [
        {
          "output_type": "stream",
          "name": "stdout",
          "text": [
            "Accuracy Score is 0.65\n"
          ]
        }
      ]
    },
    {
      "cell_type": "code",
      "source": [
        "print ('Classification Report : ')\n",
        "print (classification_report(X_actual, Y_predic))\n",
        "print('AUC-ROC:',roc_auc_score(X_actual, Y_predic))\n",
        "print('LOGLOSS Value is',log_loss(X_actual, Y_predic))"
      ],
      "metadata": {
        "id": "NXh1UKy-Y12Y",
        "colab": {
          "base_uri": "https://localhost:8080/"
        },
        "outputId": "c72b379e-ce21-4f0f-ca90-c98e09cf2df9"
      },
      "execution_count": null,
      "outputs": [
        {
          "output_type": "stream",
          "name": "stdout",
          "text": [
            "Classification Report : \n",
            "              precision    recall  f1-score   support\n",
            "\n",
            "           0       0.73      0.67      0.70        12\n",
            "           1       0.56      0.62      0.59         8\n",
            "\n",
            "    accuracy                           0.65        20\n",
            "   macro avg       0.64      0.65      0.64        20\n",
            "weighted avg       0.66      0.65      0.65        20\n",
            "\n",
            "AUC-ROC: 0.6458333333333334\n",
            "LOGLOSS Value is 12.088731657704779\n"
          ]
        }
      ]
    },
    {
      "cell_type": "markdown",
      "source": [
        "**Performance Metrics for Regression**"
      ],
      "metadata": {
        "id": "CW8K3RYG8sp-"
      }
    },
    {
      "cell_type": "code",
      "source": [
        "from sklearn.metrics import r2_score\n",
        "from sklearn.metrics import mean_absolute_error\n",
        "from sklearn.metrics import mean_squared_error"
      ],
      "metadata": {
        "id": "GVYn__Ke8nrj"
      },
      "execution_count": null,
      "outputs": []
    },
    {
      "cell_type": "code",
      "source": [
        "X_actuall = [5, -1, 2, 10]\n",
        "Y_predicc = [3.5, -0.9, 2, 9.9]"
      ],
      "metadata": {
        "id": "uVrfA7uf8-yw"
      },
      "execution_count": null,
      "outputs": []
    },
    {
      "cell_type": "code",
      "source": [
        "print ('R Squared =',r2_score(X_actuall, Y_predicc))\n",
        "print ('MAE =',mean_absolute_error(X_actuall, Y_predicc))\n",
        "print ('MSE =',mean_squared_error(X_actuall, Y_predicc))"
      ],
      "metadata": {
        "colab": {
          "base_uri": "https://localhost:8080/"
        },
        "id": "HkufnL3-9Ak9",
        "outputId": "4c28505a-842d-4e64-df13-6fedeae54e5b"
      },
      "execution_count": null,
      "outputs": [
        {
          "output_type": "stream",
          "name": "stdout",
          "text": [
            "R Squared = 0.9656060606060606\n",
            "MAE = 0.42499999999999993\n",
            "MSE = 0.5674999999999999\n"
          ]
        }
      ]
    }
  ]
}